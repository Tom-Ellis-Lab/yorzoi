{
 "cells": [
  {
   "cell_type": "code",
   "execution_count": null,
   "metadata": {},
   "outputs": [],
   "source": [
    "import random\n",
    "import torch\n",
    "from yorzoi.dataset import GenomicDataset\n",
    "from yorzoi.model.borzoi import Borzoi\n",
    "\n",
    "model = Borzoi.from_pretrained(\"tom-ellis-lab/yorzoi\")\n",
    "model.to(\"cuda:0\")\n",
    "model.eval()\n",
    "\n",
    "def random_dna_sequence(length):\n",
    "    return ''.join(random.choices('ACGT', k=length))\n",
    "\n",
    "sequences = torch.stack([torch.tensor(GenomicDataset.one_hot_encode((random_dna_sequence(4992))), dtype=torch.float32) for _ in range(5)])\n",
    "\n",
    "print(f\"\\nPredicting RNA-seq coverage for {sequences.shape[0]} sequences\\n\")\n",
    "\n",
    "sequences = sequences.to(\"cuda:0\")\n",
    "\n",
    "with torch.autocast(device_type=\"cuda\"):\n",
    "    predictions = model(sequences)\n",
    "\n",
    "print(f\"Made predictions for {predictions.shape[0]} sequences, {predictions.shape[1]} tracks each (sense: {predictions.shape[1]//2}, antisense: {predictions.shape[1]//2}), \\nacross {predictions.shape[2]} bins (resolution=10 => 3000 bp). The first half of the tracks are \\nthe sense strand, the second half are the antisense strand. The first track \\nof the first half belongs to the same RNA-seq experiment as the first track \\nof the second half and so on.\")"
   ]
  }
 ],
 "metadata": {
  "language_info": {
   "name": "python"
  }
 },
 "nbformat": 4,
 "nbformat_minor": 2
}
